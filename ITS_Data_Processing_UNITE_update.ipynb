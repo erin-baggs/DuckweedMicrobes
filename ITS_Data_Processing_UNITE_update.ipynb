{
  "nbformat": 4,
  "nbformat_minor": 0,
  "metadata": {
    "colab": {
      "provenance": [],
      "collapsed_sections": [],
      "mount_file_id": "1ySP1rBDygg3mRHkOkzV9O2jW-cNc-ftm",
      "authorship_tag": "ABX9TyMlq/RSur/h/SdsFAcqIJA5",
      "include_colab_link": true
    },
    "kernelspec": {
      "name": "python3",
      "display_name": "Python 3"
    },
    "language_info": {
      "name": "python"
    }
  },
  "cells": [
    {
      "cell_type": "markdown",
      "metadata": {
        "id": "view-in-github",
        "colab_type": "text"
      },
      "source": [
        "<a href=\"https://colab.research.google.com/github/erin-baggs/DuckweedMicrobes/blob/main/ITS_Data_Processing_UNITE_update.ipynb\" target=\"_parent\"><img src=\"https://colab.research.google.com/assets/colab-badge.svg\" alt=\"Open In Colab\"/></a>"
      ]
    },
    {
      "cell_type": "markdown",
      "source": [
        "#Google co-lab notebook for ITS rRNA amplicon sequencing  "
      ],
      "metadata": {
        "id": "o6peuUAsLyoP"
      }
    },
    {
      "cell_type": "markdown",
      "source": [
        "# **Get data for tutorial**\n",
        "\n",
        "To access the data needed for this tutorial we need to download [UNITE](https://unite.ut.ee/repository.php) database files (sh_taxonomy_qiime_ver8_dynamic_s_all_10.05.2021.txt, sh_refs_qiime_ver8_dynamic_s_all_10.05.2021.fasta).\n",
        "\n",
        "The demultiplexed fasta reads which allow you to skip to **Mapping to reference database** can be found on ncbi PRJNA785658 (SRR22220775-SRR22220777. \n",
        "\n",
        "Versions of barcode demultiplex scripts used in processing raw nanopore reads can be found on [github](https://github.com/krasileva-group/Duckweed-Microbiome.git).  \n",
        "\n",
        "Once you have downloaded the data put it in your google drive or load into the colab session. "
      ],
      "metadata": {
        "id": "B0KSmDqXgwLU"
      }
    },
    {
      "cell_type": "markdown",
      "source": [
        "Click on left panel, navigate to folder icon on the far left. Then at the top of the file bar click on the folder with the google drive symbol and agree to mount google drive. "
      ],
      "metadata": {
        "id": "6ICOX6u_GXjL"
      }
    },
    {
      "cell_type": "markdown",
      "source": [
        "## Steps for analyzing raw reads (skip if downloaded fasta from SRA)"
      ],
      "metadata": {
        "id": "APirbbAWhhGb"
      }
    },
    {
      "cell_type": "code",
      "metadata": {
        "id": "I9a7MtewFIAH"
      },
      "source": [
        "# The Google Colab Environment does not have conda set, this would\n",
        "# ordinarily be the easies option to install these tools.\n",
        "\n",
        "!pip install git+https://github.com/rrwick/Porechop.git  # just so pomoxis will install cleanly\n",
        "!pip install medaka pomoxis aplanat intervaltree==3.0.2\n",
        "# install samtools from source\n",
        "!wget https://github.com/samtools/samtools/releases/download/1.10/samtools-1.10.tar.bz2\n",
        "!tar -xjf samtools-1.10.tar.bz2\n",
        "!cd samtools-1.10 && ./configure --prefix=/usr/local/ && make && make install\n",
        "!wget https://github.com/lh3/minimap2/releases/download/v2.17/minimap2-2.17_x64-linux.tar.bz2\n",
        "!tar -xjf minimap2-2.17_x64-linux.tar.bz2\n",
        "!cp /content/minimap2-2.17_x64-linux/minimap2 /usr/local/bin/\n",
        "!pip install requests "
      ],
      "execution_count": null,
      "outputs": []
    },
    {
      "cell_type": "code",
      "source": [
        "!cp  /content/drive/MyDrive/ITS-Colab/scripts/adapter-barcode.py /usr/local/lib/python3.7/dist-packages/porechop/adapters.py"
      ],
      "metadata": {
        "id": "rpFhaHimxSkt"
      },
      "execution_count": null,
      "outputs": []
    },
    {
      "cell_type": "code",
      "source": [
        "!porechop -i /content/drive/MyDrive/ITS-Colab/combined-ITS.fastq -b /content/drive/MyDrive/ITS-Colab/ITS-demultiplex"
      ],
      "metadata": {
        "id": "PhPIrGsrtZdv"
      },
      "execution_count": null,
      "outputs": []
    },
    {
      "cell_type": "markdown",
      "source": [
        "Barcodes to pond\n",
        "\n",
        "BC01 = 404 \n",
        "BC02 = 405 \n",
        "BC03 = 923 "
      ],
      "metadata": {
        "id": "o7TtNCMFuOGu"
      }
    },
    {
      "cell_type": "markdown",
      "source": [
        "Combine fasta per site "
      ],
      "metadata": {
        "id": "wZQIue_dy7f0"
      }
    },
    {
      "cell_type": "code",
      "metadata": {
        "id": "eTktalinjz8h"
      },
      "source": [
        "# The Google Colab Environment does not have conda set, this would\n",
        "# ordinarily be the easies option to install these tools.\n",
        "\n",
        "!pip install git+https://github.com/rrwick/Porechop.git  # just so pomoxis will install cleanly\n",
        "!pip install medaka pomoxis aplanat intervaltree==3.0.2\n",
        "# install samtools from source\n",
        "!wget https://github.com/samtools/samtools/releases/download/1.10/samtools-1.10.tar.bz2\n",
        "!tar -xjf samtools-1.10.tar.bz2\n",
        "!cd samtools-1.10 && ./configure --prefix=/usr/local/ && make && make install\n",
        "!wget https://github.com/lh3/minimap2/releases/download/v2.17/minimap2-2.17_x64-linux.tar.bz2\n",
        "!tar -xjf minimap2-2.17_x64-linux.tar.bz2\n",
        "!cp /content/minimap2-2.17_x64-linux/minimap2 /usr/local/bin/\n",
        "!pip install requests "
      ],
      "execution_count": null,
      "outputs": []
    },
    {
      "cell_type": "markdown",
      "source": [
        "Download the UNITE database files from [here](https://unite.ut.ee/repository.php) "
      ],
      "metadata": {
        "id": "j7DWf3PKsDmG"
      }
    },
    {
      "cell_type": "code",
      "source": [
        "!minimap2 -d /content/drive/MyDrive/ITS-Colab/UNITE/UNITE.mmi /content/drive/MyDrive/ITS-Colab/UNITE/sh_refs_qiime_ver8_dynamic_s_all_10.05.2021.fasta"
      ],
      "metadata": {
        "id": "-xUyCpxnjz8u"
      },
      "execution_count": null,
      "outputs": []
    },
    {
      "cell_type": "code",
      "source": [
        "!mkdir /content/drive/MyDrive/ITS-Colab/ITS-demultiplex-30-9-22/\n",
        "!mv /content/drive/MyDrive/ITS-Colab/ITS-demultiplex/*fastq /content/drive/MyDrive/ITS-Colab/ITS-demultiplex-30-9-22/\n",
        "!mv BC01.fasta 404.fasta\n",
        "!mv BC02.fasta 405.fasta\n",
        "!mv BC03.fasta 923.fasta\n",
        "!mkdir /content/drive/MyDrive/ITS-Colab/ITS-demultiplex-30-9-22/scratch\n",
        "!mv /content/drive/MyDrive/ITS-Colab/ITS-demultiplex-30-9-22/none.fastq /content/drive/MyDrive/ITS-Colab/ITS-demultiplex-30-9-22/BC04.fastq /content/drive/MyDrive/ITS-Colab/ITS-demultiplex-30-9-22/scratch\n",
        "!mkdir /content/drive/MyDrive/ITS-Colab/ITS-demultiplex-30-9-22/fasta/\n",
        "!for f in /content/drive/MyDrive/ITS-Colab/ITS-demultiplex-30-9-22/*fastq ; do sed -n '1~4s/^@/>/p;2~4p' $f > /content/drive/MyDrive/ITS-Colab/ITS-demultiplex-30-9-22/fasta/$(basename $f .fastq).fasta ; done\n",
        "!mkdir /content/drive/MyDrive/ITS-Colab/sam/AbundanceTables-30-9-22\n",
        "!mkdir /content/drive/MyDrive/ITS-Colab/sam/samoutput-30-9-22"
      ],
      "metadata": {
        "id": "__17Nh-YkbtY"
      },
      "execution_count": null,
      "outputs": []
    },
    {
      "cell_type": "markdown",
      "source": [
        "Can add a loop to command below to process all the ITS mock sequences at once. Also to get reads rather than species per genre you need to adjust the fasta headers so each one is unique"
      ],
      "metadata": {
        "id": "rhOUS_eTZFka"
      }
    },
    {
      "cell_type": "code",
      "source": [
        "!minimap2 -K 5M -ax map-ont -L /content/drive/MyDrive/ITS-Colab/UNITE/UNITE.mmi /content/drive/MyDrive/ITS-Colab/ITS-demultiplex-30-9-22/fasta/404.fasta > 404.sam\n",
        "!minimap2 -K 5M -ax map-ont -L /content/drive/MyDrive/ITS-Colab/UNITE/UNITE.mmi /content/drive/MyDrive/ITS-Colab/ITS-demultiplex-30-9-22/fasta/405.fasta > 405.sam\n",
        "!minimap2 -K 5M -ax map-ont -L /content/drive/MyDrive/ITS-Colab/UNITE/UNITE.mmi /content/drive/MyDrive/ITS-Colab/ITS-demultiplex-30-9-22/fasta/923.fasta > 923.sam"
      ],
      "metadata": {
        "id": "J5YPlPrejz8u"
      },
      "execution_count": null,
      "outputs": []
    },
    {
      "cell_type": "code",
      "source": [
        "!for file in *.sam; do echo \"==> ${file} <==\"; grep -v '^@' \"${file}\" > \"${file}.output\"; done"
      ],
      "metadata": {
        "id": "qyBpFxZ0jz8u"
      },
      "execution_count": null,
      "outputs": []
    },
    {
      "cell_type": "markdown",
      "source": [
        "Filter reads based on SAM header to keep only those that map and do not have additional SAM [flags](https://broadinstitute.github.io/picard/explain-flags.html).  \n",
        "\n",
        "This was not needed for bacteria, I wonder if its to do with the bacterial database being more complete/ appropriate? \n",
        "\n"
      ],
      "metadata": {
        "id": "N5KQge1Ojz8u"
      }
    },
    {
      "cell_type": "code",
      "source": [
        "!mkdir /content/unite\n",
        "!cat /content/404.sam.output | awk -F'\\t' '$2 == 0||$2 == 256 {print $0;}' > /content/unite/404.sam.output\n",
        "!cat /content/405.sam.output | awk -F'\\t' '$2 == 0||$2 == 256 {print $0;}' > /content/unite/405.sam.output\n",
        "!cat /content/923.sam.output | awk -F'\\t' '$2 == 0||$2 == 256 {print $0;}' > /content/unite/923.sam.output"
      ],
      "metadata": {
        "id": "T9_t0aihjz8v"
      },
      "execution_count": null,
      "outputs": []
    },
    {
      "cell_type": "code",
      "source": [
        "!cp /content/unite/*sam.output /content/drive/MyDrive/ITS-Colab/sam/samoutput-30-9-22/  "
      ],
      "metadata": {
        "id": "b-xavVLcuZST"
      },
      "execution_count": null,
      "outputs": []
    },
    {
      "cell_type": "markdown",
      "source": [
        "# Abundance tables \n",
        "To create abundcance tables we use more of the files from the SILVA DB and some adapted code from the [Puntseq](https://https://github.com/d-j-k/puntseq) project. If interested here is the related paper Urban L (2020), Freshwater monitoring by nanopore sequencing elife [link text](https://elifesciences.org/articles/61504)"
      ],
      "metadata": {
        "id": "uugP6fGxjz8v"
      }
    },
    {
      "cell_type": "code",
      "source": [
        "#Generate table of reads per species\n",
        "import pandas as pd\n",
        "import io\n",
        "import os\n",
        "import requests\n",
        "import numpy as np\n",
        "# load all files from the SILVA database\n",
        "sild = pd.read_csv('/content/drive/MyDrive/ITS-Colab/UNITE/sh_taxonomy_qiime_ver8_dynamic_s_all_10.05.2021.txt', sep='\\t', header=None)\n",
        "sild.columns = ['taxid','tree']\n",
        "sild['ranks'] = [x.split(';')[-1:] for x in sild.tree.values]\n",
        "sild['tree'] = [x[0:-1] for x in sild.tree]\n",
        "sild.index = sild.taxid\n",
        "ranks = 'species'\n",
        "# choose dir of sam files\n",
        "dirc = '/content/unite' \n",
        "\n",
        "\n",
        "# create \n",
        "nr = 0\n",
        "for filename in os.listdir(dirc):\n",
        "    print(filename)\n",
        "    \n",
        "    try:\n",
        "        silva_10k = pd.read_csv('/content/unite/%s' %filename, \n",
        "                         sep='\\t', header=None, usecols = [0,2,4,13])\n",
        "    except: \n",
        "        continue\n",
        "    \n",
        "    silva_10k.columns = ['Read_ID', 'id','MS', 'ASs']\n",
        "    silva_10k['ASs'] = silva_10k['ASs'].astype('str')\n",
        "    silva_10k['AS'] = [x.split(':i:')[-1] for x in silva_10k['ASs'].values]\n",
        "    silva_10k.dropna(axis=0, subset=['AS'], inplace=True)\n",
        "    silva_10k['AS'] = silva_10k['AS'].astype('float')\n",
        "    mini = silva_10k[silva_10k['AS'] == silva_10k.groupby('Read_ID')['AS'].transform('max')]\n",
        "    mini = mini[['Read_ID', 'MS', 'AS','id']]              \n",
        "    mini.columns = ['read','score','as','id']\n",
        "    mini = mini[~mini.id.isnull()]  \n",
        "    mini['taxid'] =sild.ranks.loc[mini.id.values].values\n",
        "\n",
        "\n",
        "    if ranks == 'species':\n",
        "        mini['ranks'] = sild.ranks.loc[mini.id.values].values\n",
        "        mini.index = mini.read  \n",
        "        for i in mini.index[mini.duplicated(subset='read', keep=False)].unique():\n",
        "            minil = list(mini.loc[i].taxid.values)\n",
        "            if minil.count(minil[0]) != len(minil):\n",
        "                mini.drop(i)\n",
        "        mini.drop_duplicates(subset='read', keep='first', inplace=True)\n",
        "\n",
        "    mini['ranks']= [(x[0].strip(\"[]\")) for x in mini.ranks] \n",
        "    mini['ranks']= [(x.split(\"s__\")[1]) for x in mini.ranks]     #Current WORKS\n",
        "    mini2 = pd.DataFrame(mini.ranks.value_counts())\n",
        "\n",
        "    if nr==0:\n",
        "        minif = mini2.copy(deep=True)\n",
        "        minif.columns.values[nr] = filename.split('.')[0]\n",
        "    else:\n",
        "        minif = minif.merge(mini2, left_index=True, right_index=True, how='outer')\n",
        "        minif.columns.values[nr] = filename.split('.')[0]\n",
        "    nr = nr+1\n",
        "# describe all missing bacteria as absent\n",
        "minif = minif.fillna(0) \n",
        "  \n",
        "minif.to_csv('/content/minimap2_unite_species_%s.txt' %ranks, sep='\\t')\n"
      ],
      "metadata": {
        "id": "jdsAq4DSjz8v"
      },
      "execution_count": null,
      "outputs": []
    },
    {
      "cell_type": "code",
      "source": [
        "#Generate table of reads per genus\n",
        "import pandas as pd\n",
        "import io\n",
        "import os\n",
        "import requests\n",
        "import numpy as np\n",
        "# load all files from the SILVA database\n",
        "sild = pd.read_csv('/content/drive/MyDrive/ITS-Colab/UNITE/sh_taxonomy_qiime_ver8_dynamic_s_all_10.05.2021.txt', sep='\\t', header=None)\n",
        "sild.columns = ['taxid','tree']\n",
        "sild['ranks'] = [x.split(';')[-2:-1] for x in sild.tree.values]\n",
        "sild['tree'] = [x[0:-1] for x in sild.tree]\n",
        "sild.index = sild.taxid\n",
        "ranks = 'genus'\n",
        "# choose dir of sam files\n",
        "dirc = '/content/unite' \n",
        "# create \n",
        "nr = 0\n",
        "for filename in os.listdir(dirc):\n",
        "    \n",
        "    try:\n",
        "        silva_10k = pd.read_csv('/content/unite/%s' %filename, \n",
        "                         sep='\\t', header=None, usecols = [0,2,4,13])\n",
        "    except: \n",
        "        continue\n",
        "    \n",
        "    silva_10k.columns = ['Read_ID', 'id','MS', 'ASs']\n",
        "    silva_10k['ASs'] = silva_10k['ASs'].astype('str')\n",
        "    silva_10k['AS'] = [x.split(':i:')[-1] for x in silva_10k['ASs'].values]\n",
        "    silva_10k.dropna(axis=0, subset=['AS'], inplace=True)\n",
        "    silva_10k['AS'] = silva_10k['AS'].astype('float')\n",
        "    mini = silva_10k[silva_10k['AS'] == silva_10k.groupby('Read_ID')['AS'].transform('max')]\n",
        "    mini = mini[['Read_ID', 'MS', 'AS','id']]              \n",
        "    mini.columns = ['read','score','as','id']\n",
        "    mini = mini[~mini.id.isnull()]  \n",
        "    mini['taxid'] =sild.ranks.loc[mini.id.values].values\n",
        "\n",
        "\n",
        "    if ranks == 'genus':\n",
        "        mini['ranks'] = sild.ranks.loc[mini.id.values].values\n",
        "        mini.index = mini.read  \n",
        "        for i in mini.index[mini.duplicated(subset='read', keep=False)].unique():\n",
        "            minil = list(mini.loc[i].taxid.values)\n",
        "            if minil.count(minil[0]) != len(minil):\n",
        "                mini.drop(i)\n",
        "        mini.drop_duplicates(subset='read', keep='first', inplace=True)\n",
        "\n",
        "    mini['ranks']= [(x[0].strip(\"[]\")) for x in mini.ranks] \n",
        "    mini['ranks']= [(x.split(\"g__\")[1]) for x in mini.ranks]     #Current WORKS\n",
        "    mini2 = pd.DataFrame(mini.ranks.value_counts())\n",
        "\n",
        "    if nr==0:\n",
        "        print('seen')\n",
        "        minif = mini2.copy(deep=True)\n",
        "        minif.columns.values[nr] = filename.split('.')[0]\n",
        "    else:\n",
        "        minif = minif.merge(mini2, left_index=True, right_index=True, how='outer')\n",
        "        minif.columns.values[nr] = filename.split('.')[0]\n",
        "\n",
        "    nr = nr+1\n",
        "# describe all missing bacteria as absent\n",
        "minif = minif.fillna(0) \n",
        "  \n",
        "minif.to_csv('/content/minimap2_unite_%s.txt' %ranks, sep='\\t')\n"
      ],
      "metadata": {
        "id": "bj2ne6Bajz8v"
      },
      "execution_count": null,
      "outputs": []
    },
    {
      "cell_type": "code",
      "source": [
        "#Generate table of reads per family\n",
        "import pandas as pd\n",
        "import io\n",
        "import os\n",
        "import requests\n",
        "import numpy as np\n",
        "# load all files from the SILVA database\n",
        "sild = pd.read_csv('/content/drive/MyDrive/ITS-Colab/UNITE/sh_taxonomy_qiime_ver8_dynamic_s_all_10.05.2021.txt', sep='\\t', header=None)\n",
        "sild.columns = ['taxid','tree']\n",
        "sild['ranks'] = [x.split(';')[-4:-3] for x in sild.tree.values]\n",
        "sild['tree'] = [x[0:-1] for x in sild.tree]\n",
        "sild.index = sild.taxid\n",
        "ranks = 'order'\n",
        "# choose dir of sam files\n",
        "dirc = '/content/unite' \n",
        "# create \n",
        "nr = 0\n",
        "print('here')\n",
        "for filename in os.listdir(dirc):\n",
        "    print(filename) \n",
        "    \n",
        "    try:\n",
        "        silva_10k = pd.read_csv('/content/unite/%s' %filename, sep='\\t', header=None, usecols = [0,2,4,13])\n",
        "    except: \n",
        "        continue\n",
        "    \n",
        "    silva_10k.columns = ['Read_ID', 'id','MS', 'ASs']\n",
        "    silva_10k['ASs'] = silva_10k['ASs'].astype('str')\n",
        "    silva_10k['AS'] = [x.split(':i:')[-1] for x in silva_10k['ASs'].values]\n",
        "    silva_10k.dropna(axis=0, subset=['AS'], inplace=True)\n",
        "    silva_10k['AS'] = silva_10k['AS'].astype('float')\n",
        "    mini = silva_10k[silva_10k['AS'] == silva_10k.groupby('Read_ID')['AS'].transform('max')]\n",
        "    mini = mini[['Read_ID', 'MS', 'AS','id']]              \n",
        "    mini.columns = ['read','score','as','id']\n",
        "    mini = mini[~mini.id.isnull()]  \n",
        "    mini['taxid'] =sild.ranks.loc[mini.id.values].values\n",
        "\n",
        "\n",
        "    if ranks == 'order':\n",
        "        mini['ranks'] = sild.ranks.loc[mini.id.values].values\n",
        "        mini.index = mini.read  \n",
        "        for i in mini.index[mini.duplicated(subset='read', keep=False)].unique():\n",
        "            minil = list(mini.loc[i].taxid.values)\n",
        "            if minil.count(minil[0]) != len(minil):\n",
        "                mini.drop(i)\n",
        "        mini.drop_duplicates(subset='read', keep='first', inplace=True)\n",
        "\n",
        "    mini['ranks']= [(x[0].strip(\"[]\")) for x in mini.ranks] \n",
        "    mini['ranks']= [(x.split(\"o__\")[1]) for x in mini.ranks]     #Current WORKS\n",
        "    mini2 = pd.DataFrame(mini.ranks.value_counts())\n",
        "\n",
        "    if nr==0:\n",
        "        minif = mini2.copy(deep=True)\n",
        "        minif.columns.values[nr] = filename.split('.')[0]\n",
        "    else:\n",
        "        minif = minif.merge(mini2, left_index=True, right_index=True, how='outer')\n",
        "        minif.columns.values[nr] = filename.split('.')[0]\n",
        "\n",
        "    nr = nr+1\n",
        "# describe all missing bacteria as absent\n",
        "minif = minif.fillna(0) \n",
        "  \n",
        "minif.to_csv('/content/minimap2_unite_%s.txt' %ranks, sep='\\t')\n"
      ],
      "metadata": {
        "id": "z5Ag9Zbg-JvM"
      },
      "execution_count": null,
      "outputs": []
    },
    {
      "cell_type": "code",
      "source": [
        "#Generate table of reads per genus\n",
        "import pandas as pd\n",
        "import io\n",
        "import os\n",
        "import requests\n",
        "import numpy as np\n",
        "# load all files from the SILVA database\n",
        "sild = pd.read_csv('/content/drive/MyDrive/ITS-Colab/UNITE/sh_taxonomy_qiime_ver8_dynamic_s_all_10.05.2021.txt', sep='\\t', header=None)\n",
        "sild.columns = ['taxid','tree']\n",
        "sild['ranks'] = [x.split(';')[-6:-5] for x in sild.tree.values]\n",
        "sild['tree'] = [x[0:-1] for x in sild.tree]\n",
        "sild.index = sild.taxid\n",
        "ranks = 'phylum'\n",
        "# choose dir of sam files\n",
        "dirc = '/content/' \n",
        "# create \n",
        "nr = 0\n",
        "for filename in os.listdir(dirc):\n",
        "    \n",
        "    try:\n",
        "        silva_10k = pd.read_csv('/content/%s' %filename, \n",
        "                         sep='\\t', header=None, usecols = [0,2,4,13])\n",
        "    except: \n",
        "        continue\n",
        "    \n",
        "    silva_10k.columns = ['Read_ID', 'id','MS', 'ASs']\n",
        "    silva_10k['ASs'] = silva_10k['ASs'].astype('str')\n",
        "    silva_10k['AS'] = [x.split(':i:')[-1] for x in silva_10k['ASs'].values]\n",
        "    silva_10k.dropna(axis=0, subset=['AS'], inplace=True)\n",
        "    silva_10k['AS'] = silva_10k['AS'].astype('float')\n",
        "    mini = silva_10k[silva_10k['AS'] == silva_10k.groupby('Read_ID')['AS'].transform('max')]\n",
        "    mini = mini[['Read_ID', 'MS', 'AS','id']]              \n",
        "    mini.columns = ['read','score','as','id']\n",
        "    mini = mini[~mini.id.isnull()]  \n",
        "    mini['taxid'] =sild.ranks.loc[mini.id.values].values\n",
        "\n",
        "\n",
        "    if ranks == 'phylum':\n",
        "        mini['ranks'] = sild.ranks.loc[mini.id.values].values\n",
        "        mini.index = mini.read  \n",
        "        for i in mini.index[mini.duplicated(subset='read', keep=False)].unique():\n",
        "            minil = list(mini.loc[i].taxid.values)\n",
        "            if minil.count(minil[0]) != len(minil):\n",
        "                mini.drop(i)\n",
        "        mini.drop_duplicates(subset='read', keep='first', inplace=True)\n",
        "\n",
        "    mini['ranks']= [(x[0].strip(\"[]\")) for x in mini.ranks] \n",
        "    mini['ranks']= [(x.split(\"p__\")[1]) for x in mini.ranks]     #Current WORKS\n",
        "    mini2 = pd.DataFrame(mini.ranks.value_counts())\n",
        "\n",
        "    if nr==0:\n",
        "        minif = mini2.copy(deep=True)\n",
        "        minif.columns.values[nr] = filename.split('.')[0]\n",
        "    else:\n",
        "        minif = minif.merge(mini2, left_index=True, right_index=True, how='outer')\n",
        "        minif.columns.values[nr] = filename.split('.')[0]\n",
        "\n",
        "    nr = nr+1\n",
        "# describe all missing bacteria as absent\n",
        "minif = minif.fillna(0) \n",
        "  \n",
        "minif.to_csv('/content/minimap2_unite_%s.txt' %ranks, sep='\\t')\n"
      ],
      "metadata": {
        "id": "x1gAIgtD-oGn"
      },
      "execution_count": null,
      "outputs": []
    }
  ]
}